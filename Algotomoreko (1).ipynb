{
 "cells": [
  {
   "cell_type": "code",
   "execution_count": 38,
   "id": "ccfd546c",
   "metadata": {},
   "outputs": [],
   "source": [
    "import numpy as np\n",
    "import tomopy\n",
    "import algotom.io.loadersaver as losa\n",
    "import algotom.prep.correction as corr\n",
    "import algotom.prep.calculation as calc\n",
    "import algotom.rec.reconstruction as rec\n",
    "import algotom.prep.removal as remo\n",
    "import algotom.prep.filtering as filt\n",
    "import algotom.util.utility as util"
   ]
  },
  {
   "cell_type": "code",
   "execution_count": 59,
   "id": "40bd7236",
   "metadata": {},
   "outputs": [],
   "source": [
    "# Datei laden und Speicherort definieren\n",
    "with h5py.File('phase_recos.h5', 'r') as f:\n",
    "    projections = f['phase_recos'][:]\n",
    "    \n",
    "output_base = \"H:/paul/tomo_reco_glass_beads/\""
   ]
  },
  {
   "cell_type": "code",
   "execution_count": null,
   "id": "45dd9647",
   "metadata": {},
   "outputs": [],
   "source": [
    "# Optionale Parameter aus Beispiel übernommen\n",
    "start_slice = 10\n",
    "stop_slice = -1\n",
    "chunk = 100  # Number of slices to be reconstructed in one go. Adjust to suit RAM or GPU memory.\n",
    "ncore = None  # Number of cpu-core for parallel processing. Set to None for autoselecting.\n",
    "output_format = \"h5\"  # \"tif\" or \"hdf\".\n",
    "preprocessing = True  # Clean data before reconstruction."
   ]
  },
  {
   "cell_type": "code",
   "execution_count": 31,
   "id": "ff33e3eb",
   "metadata": {},
   "outputs": [],
   "source": [
    "# Rekonstruktionsparameter aus tomoreko\n",
    "rotation_center = 128\n",
    "rotation_axis = 0\n",
    "rotation_angles_deg = np.linspace(0, 180, projections.shape[0])\n",
    "rotation_angles_rad = np.deg2rad(rotation_angles_deg)\n",
    "angles = np.deg2rad(rotation_angles_deg)"
   ]
  },
  {
   "cell_type": "code",
   "execution_count": 32,
   "id": "a3d33253",
   "metadata": {},
   "outputs": [],
   "source": [
    "#Algo und Center berechnet\n",
    "recon_method = rec.gridrec_reconstruction # Fast cpu-method. Must install Tomopy.\n",
    "center = tomopy.find_center(projections, rotation_angles_rad, init=290, ind=0, tol=0.5)"
   ]
  },
  {
   "cell_type": "code",
   "execution_count": 33,
   "id": "bd7a585f",
   "metadata": {},
   "outputs": [],
   "source": [
    "#Werte definiert\n",
    "(depth, height, width) = projections.shape"
   ]
  },
  {
   "cell_type": "code",
   "execution_count": 34,
   "id": "dbf28d1e",
   "metadata": {},
   "outputs": [],
   "source": [
    "#Werte als beispiel\n",
    "start_slice = 100\n",
    "stop_slice = height - 100\n",
    "step_slice = 100"
   ]
  },
  {
   "cell_type": "code",
   "execution_count": 35,
   "id": "f8a7af1e",
   "metadata": {},
   "outputs": [],
   "source": [
    "#Parameter+Rekonstruktion Setup\n",
    "if (stop_slice == -1) or (stop_slice > height):\n",
    "    stop_slice = height\n",
    "total_slice = stop_slice - start_slice\n",
    "if output_format == \".h5\":\n",
    "    # float32 macht später einen Fehler: Lossy conversion from float32 to uint8, Konvertierung folgt\n",
    "    recon_h5 = losa.open_hdf_stream(output_base + \"/recon_data.h5\",\n",
    "                                     (total_slice, width, width),\n",
    "                                     key_path='entry/data',\n",
    "                                     data_type='float32', overwrite=True)\n",
    "chunk = np.clip(chunk, 1, total_slice)\n",
    "last_chunk = total_slice - chunk * (total_slice // chunk)"
   ]
  },
  {
   "cell_type": "code",
   "execution_count": null,
   "id": "ccbd6d43",
   "metadata": {},
   "outputs": [],
   "source": [
    "from PIL import Image\n",
    "\n",
    "# Nach Bsp aufgebaut\n",
    "if output_format == \"hdf\":\n",
    "    recon_hdf[start_sino - start_slice:stop_sino - start_slice] = np.moveaxis(recon_imgs, 1, 0)\n",
    "else:\n",
    "    for j in range(start_sino, stop_sino):\n",
    "        # Konvertierung\n",
    "        reconstructed_image = Image.fromarray(recon_imgs[:, j - start_sino, :])\n",
    "\n",
    "        # Speichern\n",
    "        out_file = output_base + \"/rec_\" + (\"0000\" + str(j))[-5:] + \".tif\"\n",
    "        reconstructed_image.save(out_file)\n",
    "\n",
    "        # Anzeigen\n",
    "        reconstructed_image.show()\n"
   ]
  },
  {
   "cell_type": "code",
   "execution_count": null,
   "id": "c471b136",
   "metadata": {},
   "outputs": [],
   "source": [
    "# Rekonstruktion aber in anderem Format\n",
    "for i in np.arange(start_slice, start_slice + total_slice - last_chunk, chunk):\n",
    "    start_sino = i\n",
    "    stop_sino = start_sino + chunk\n",
    "\n",
    "    # Data ohne Korrektur\n",
    "    sinograms = projections[:, start_sino:stop_sino, :]\n",
    "\n",
    "    # Rekonstruktion\n",
    "    recon_imgs = recon_method(sinograms, center, angles=angles, ncore=ncore, apply_log=False)\n",
    "\n",
    "    # Konvertieren\n",
    "    recon_imgs_uint8 = (recon_imgs * 255).astype(np.uint8)\n",
    "\n",
    "    # Anhängen an Liste\n",
    "    recon_images.extend(recon_imgs_uint8)\n"
   ]
  }
 ],
 "metadata": {
  "kernelspec": {
   "display_name": "Python 3 (ipykernel)",
   "language": "python",
   "name": "python3"
  },
  "language_info": {
   "codemirror_mode": {
    "name": "ipython",
    "version": 3
   },
   "file_extension": ".py",
   "mimetype": "text/x-python",
   "name": "python",
   "nbconvert_exporter": "python",
   "pygments_lexer": "ipython3",
   "version": "3.10.9"
  }
 },
 "nbformat": 4,
 "nbformat_minor": 5
}
